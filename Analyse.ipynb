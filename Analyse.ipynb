{
 "cells": [
  {
   "cell_type": "markdown",
   "id": "9519d73c-f70f-4f69-b406-8a949a6ef116",
   "metadata": {},
   "source": [
    "## Controle et analyse\n",
    "\n",
    "Une fois collectées les informations, il faut vérifier la cohérence du jeu de données collectées. \n",
    "On peut dégager déjà des premières conclusions et corriger les erreurs manifestes.\n",
    "Nous avons écrit les données dans un fichier CSV que nous allons donc ouvrir et lire. \n",
    "La même opération s'applique avec une base de données.\n",
    "Les vérifications dépendent des types de données collectées mais le passage obligé est de vérifier le nombre de lignes et la présence de doublons.\n",
    "Si on a récupérer des mesures numériques on va regarder les valeurs minimales maximales et la moyenne. Quand on a beaucoup beaucoup de données \n",
    "on fait des coups de sondes. "
   ]
  },
  {
   "cell_type": "code",
   "execution_count": null,
   "id": "e788c43b-5673-41a4-ae2d-7f6d2f2df5e7",
   "metadata": {},
   "outputs": [],
   "source": [
    "import csv\n",
    "def read_csv(filename):\n",
    "    with open(filename, 'r') as f:\n",
    "        reader = csv.DictReader(f, delimiter=\",\")\n",
    "        return [row for row in reader]\n",
    "\n",
    "def compute_notes(filename):\n",
    "    ''' Un exemple de vérification des vote données pour chaque livre'''\n",
    "    data = read_csv(filename)\n",
    "    ratings = [int(n[\"vote\"]) for n in data]\n",
    "    assert len(ratings) == len(data), f\"{len(data)} lignes n'ont pas de notes\"\n",
    "    meilleure_note = max(ratings)\n",
    "    pire_note = min(ratings)\n",
    "    moyenne = ratings\n",
    "\n",
    "\n",
    "    \n",
    "    "
   ]
  }
 ],
 "metadata": {
  "kernelspec": {
   "display_name": "Python 3 (ipykernel)",
   "language": "python",
   "name": "python3"
  },
  "language_info": {
   "codemirror_mode": {
    "name": "ipython",
    "version": 3
   },
   "file_extension": ".py",
   "mimetype": "text/x-python",
   "name": "python",
   "nbconvert_exporter": "python",
   "pygments_lexer": "ipython3",
   "version": "3.10.12"
  }
 },
 "nbformat": 4,
 "nbformat_minor": 5
}
