{
 "cells": [
  {
   "cell_type": "markdown",
   "id": "cf2d0260-76fc-4a5c-9ecf-6693304d9879",
   "metadata": {},
   "source": [
    "# Exercice 1 collecter les métadonnées d'une page web\n",
    "\n",
    "Se connecter avec un navigateur sur la page choisie\n",
    "Ouvrir la Console Admin\n",
    "Une fois isolées les informations, ajouter l'url dans la liste de URLIST et remplacer les valeurs dans la fonction extract_book_info\n"
   ]
  },
  {
   "cell_type": "code",
   "execution_count": null,
   "id": "ec290f7b-b1ac-4a8b-82ec-d676f7dda4be",
   "metadata": {},
   "outputs": [],
   "source": [
    "def get_the_soup(url):\n",
    "    '''Recupérer la page HTML à partir d'une url et transformer le HTML en un arbre à parcourir'''\n",
    "    r = requests.get(url) \n",
    "    if r.status_code == 200:\n",
    "        return bs(r.text, \"lxml\")\n",
    "\n",
    "def extract_book_infos(book_page):\n",
    "    ''' Un exemple d'extraction d'information'''\n",
    "    book = {\n",
    "        \"titre\": book_page.find(\"h1\").text.strip(),\n",
    "        \"resume\": book_page.find(\"div\", {\"id\": \"d_bio\"}).text.strip().split(\"... >Voir plus\")[0],\n",
    "        \"rating\": book_page.find(\"span\", {\"itemprop\": \"ratingValue\"}).text,\n",
    "        \"votes\": book_page.find(\"span\", {\"itemprop\": \"ratingCount\"}).text,\n",
    "    }\n",
    "    return book\n",
    "\n",
    "def store_book_infos(filename, book_list):\n",
    "    with open(filename, \"w\") as fd:\n",
    "        detail_writer = csv.DictWriter(fd, fieldnames=list(book_list[0].keys()))\n",
    "        detail_writer.writeheader()\n",
    "        for book in book_list:\n",
    "            detail_writer.writerow(book)\n",
    "    return book_list\n",
    "    "
   ]
  },
  {
   "cell_type": "code",
   "execution_count": null,
   "id": "641ee934-fa6d-463a-bf4b-69f09935d619",
   "metadata": {},
   "outputs": [],
   "source": [
    "URL_LIST = [\"https://www.babelio.com/livres/Andrevon-Le-Monde-enfin/263277\", \"https://www.babelio.com/livres/Bacigalupi-La-fille-automate/343518\"]\n",
    "book_list = []\n",
    "for url in URLLIST:\n",
    "    page = get_the_soup(url)\n",
    "    book = extract_book_infos(page)\n",
    "    book_list.append(book)\n",
    "filename = \"example1-extract.csv\"\n",
    "store_book_infos(filename, book_list)\n"
   ]
  }
 ],
 "metadata": {
  "kernelspec": {
   "display_name": "Python 3 (ipykernel)",
   "language": "python",
   "name": "python3"
  },
  "language_info": {
   "codemirror_mode": {
    "name": "ipython",
    "version": 3
   },
   "file_extension": ".py",
   "mimetype": "text/x-python",
   "name": "python",
   "nbconvert_exporter": "python",
   "pygments_lexer": "ipython3",
   "version": "3.10.12"
  }
 },
 "nbformat": 4,
 "nbformat_minor": 5
}
