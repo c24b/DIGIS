{
 "cells": [
  {
   "cell_type": "markdown",
   "id": "cc7ff136-cdb7-4c62-956a-7347ac5d458b",
   "metadata": {},
   "source": [
    "# JOUR 1"
   ]
  },
  {
   "cell_type": "markdown",
   "id": "457af4e0-eae3-4b90-8d74-ae40f719fa80",
   "metadata": {},
   "source": [
    "## TOUR DE TABLES\n",
    "\n",
    "- ??? Littérature du farfelu\n",
    "- Luc Littérature de banlieue\n",
    "- Soigny Poetique et politique de l'espace Dans la horde du contrevent\n",
    "- Sherlock Holmes\n",
    "- Eileen Fan fictions gender studies\n",
    "- Isabelle Femme fatale dans la littérature\n",
    "- Baya Litterature jeunesse sud coréenne en France\n",
    "- Gwenaele Conscience du corps Annie Ernaux et ???\n",
    "- Bastien Role de la litterature dans la Bete du Gévaudan\n"
   ]
  },
  {
   "cell_type": "markdown",
   "id": "058fdb59-b9f4-4bac-8905-46686963b9ce",
   "metadata": {},
   "source": [
    "## CADRAGE IRENE LANGLET\n",
    "\n",
    "Méthodes numériques pourquoi?: \n",
    "Postulat lecture d'une portion infime de la production littéraire\n",
    "Franco Moretti étudier la littérature sans la lire : pratique culturelle, production, circulation\n"
   ]
  }
 ],
 "metadata": {
  "kernelspec": {
   "display_name": "Python 3 (ipykernel)",
   "language": "python",
   "name": "python3"
  },
  "language_info": {
   "codemirror_mode": {
    "name": "ipython",
    "version": 3
   },
   "file_extension": ".py",
   "mimetype": "text/x-python",
   "name": "python",
   "nbconvert_exporter": "python",
   "pygments_lexer": "ipython3",
   "version": "3.10.12"
  }
 },
 "nbformat": 4,
 "nbformat_minor": 5
}
