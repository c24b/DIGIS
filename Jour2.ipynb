{
 "cells": [
  {
   "cell_type": "markdown",
   "id": "49ee44e8-67e8-4a72-b8ad-4a8bb0be9ada",
   "metadata": {},
   "source": [
    "# Méthodes numériques appliquées à l'analyse littéraire\n",
    "\n",
    "**Objectif**: Etablir ensemble un protocole de recherche outillé. \n",
    "\n",
    " - Comment faire pour répondre à la question?\n",
    " - Quelles données allons nous stocker et interroger? \n",
    " - Quelles méthodes nous allons employer?\n",
    " - Quelles types d'analyse allons nous mobiliser? \n",
    "\n",
    "Nous avons volontairement choisi de nous concentrer sur des ressources webs.\n",
    "Deux sites internets français qui sont des réseaux sociaux \n",
    "et qui nous paraissent avoir des éléments en mesure de répondre à la question\n",
    "\n",
    "- babelio.com\n",
    "- senscritique.fr/livres\n"
   ]
  },
  {
   "cell_type": "code",
   "execution_count": null,
   "id": "9b66dac7-455c-42d0-9f19-1c76ade5cf48",
   "metadata": {},
   "outputs": [],
   "source": []
  },
  {
   "cell_type": "markdown",
   "id": "1b1d09fc-ff40-445b-87cf-9463fd5b117e",
   "metadata": {},
   "source": [
    "## ETAPE 1: Collecter les métadonnées nécessaires \n",
    "## WebMining\n",
    "\n",
    "1. Requeter la page web > Récupérer le texte programmatiquement\n",
    "> La machine va faire la même opération que lorsqu'on se connecte depuis un navigateur à l'adresse indiquée\n",
    "> une requete client qui renvoie une réponse du serveur (un code et un contenu textuel le HTML)\n"
   ]
  },
  {
   "cell_type": "markdown",
   "id": "2c507fd6-3553-47fb-b2f8-ec76b2f2f844",
   "metadata": {},
   "source": [
    "![title](./page_web.png)"
   ]
  },
  {
   "cell_type": "code",
   "execution_count": 17,
   "id": "ff9e3629-4e4c-488b-b935-d885c8eb13da",
   "metadata": {},
   "outputs": [
    {
     "name": "stdout",
     "output_type": "stream",
     "text": [
      "<!DOCTYPE html PUBLIC \"-//W3C//DTD XHTML+RDFa 1.0//EN\" \"https://www.w3.org/MarkUp/DTD/xhtml-rdfa-1.dtd\"><html version=\"XHTML+RDFa 1.0\" xmlns=\"https://www.w3.org/1999/xhtml\" xml:lang=\"fr\"><head><meta http-equiv=\"Content-Type\" content=\"text/html; charset=iso-8859-1\" /><meta http-equiv=\"Content-language\" content=\"fr-FR\" /><meta http-equiv=\"cache-control\" content=\"no-cache\"><meta http-equiv=\"pragma\" content=\"no-cache\"><meta name=\"tdm-reservation\" content=\"1\"><meta http-equiv=\"expires\" content=\"-1\"><link rel=\"icon\" href=\"/favicon192x192.png\" /><meta charset=\"iso-8859-1\"><meta http-equiv=\"X-UA-Compatible\" content=\"IE=edge\"><meta name=\"viewport\" content=\"user-scalable=no, width=device-width, initial-scale=1, maximum-scale=1\"><meta property=\"og:type\" content=\"website\"></meta><title>Babelio - Découvrez des livres, critiques, extraits, résumés</title><meta name=\"title\" content=\"Babelio - Découvrez des livres, critiques, extraits, résumés\" /><meta name=\"description\" content=\"Le site où les passionnés de lecture partagent et échangent autour de leurs lectures\" /><meta name=\"keywords\" content=\"babelio, livre, livres en ligne, bibliotheque en ligne, critiques livres, classer livres, logiciel gestion bibliotheque, livre occasion, livre photo, livre enfant, livre ancien, vente livre, livre scolaire, littérature, litterature, bandes dessinées, bande dessinee, bd, contes, recette de cuisine, dictionnaire, dictionnaire anglais francais, dictionnaire francais, dictionnaire des synonymes, dictionnaire anglais, mangas, mangas x, jeunesse, policier, roman policier, polar, machefer, roman, harry potter, asterix, tintin, star wars, point de croix, philosophie, atlas, art, prix goncourt, science fiction, poesie, livre poche, pleiade, tourisme, histoire erotique, histoire, lecture\" /><link rel=\"stylesheet\" type=\"text/css\" href=\"/css_cache/17,24,20,21,22__174.css\" media=\"all\" fetchpriority=\"high\"/><link rel=\"canonical\" href=\"https://www.babelio.com/decouvrir.php\" /><meta property=\"og:url\" cont\n"
     ]
    }
   ],
   "source": [
    "import requests\n",
    "URL = \"https://www.babelio.com/decouvriretiquettes.php\"\n",
    "response = requests.get(URL)\n",
    "if response.status_code == 200:\n",
    "    page = response.text\n",
    "    print(page[:2000])"
   ]
  },
  {
   "cell_type": "markdown",
   "id": "b886a93b-1e8c-4dcf-ada2-eab45167c909",
   "metadata": {},
   "source": [
    "Pour avoir plus de détails sur le fonctionnement du module requests. Rendez vous sur la page de la [documentation de Requests](https://requests.readthedocs.io/en/latest/)"
   ]
  },
  {
   "cell_type": "markdown",
   "id": "61c67d7f-28e6-4c7c-ab17-15d61a54d1ea",
   "metadata": {},
   "source": [
    "### HTML PARSING\n",
    "Il faut ensuite convertir le texte à un arbre car le HTML est un langage semistructuré en arbre. Vous connaissez déjà le XML donc vous savez. \n",
    "On va utiliser un module pour parcourir le texte et le convertir pour pouvoir découper ce qu'on veut extraire comme information en utilisant les balises HTML et le CSS pour identifier les morceaux qu'on veut collecter.\n",
    "\n",
    "> La machine va reproduire ce que l'utilisateur fait manuellement sur une page web.\n"
   ]
  },
  {
   "cell_type": "markdown",
   "id": "598cf1b8-2e8c-4399-a6ff-161af36fcbed",
   "metadata": {},
   "source": [
    "![identifier la balise](identify_tag.png)"
   ]
  },
  {
   "cell_type": "code",
   "execution_count": 18,
   "id": "e8493c08-9dc5-4b9e-bb22-e3544171ecbe",
   "metadata": {},
   "outputs": [
    {
     "name": "stdout",
     "output_type": "stream",
     "text": [
      "[<a href=\"/actualites.php\" id=\"bleb4i\" rel=\"nofollow\">Accueil</a>, <a href=\"/mabibliotheque.php\" rel=\"nofollow\">Mes livres</a>, <a href=\"/ajoutlivres.php\" rel=\"nofollow\">Ajouter des livres</a>, <a href=\"/decouvrir.php\">Livres</a>, <a href=\"/decouvrirauteurs.php\">Auteurs</a>, <a href=\"/decouvrirmembres_v2.php?s=1\">Lecteurs</a>, <a href=\"/dernierescritiques.php\">Critiques</a>, <a href=\"/dernierescitations.php\">Citations</a>, <a href=\"/listes-de-livres/\">Listes</a>, <a href=\"/quiz/\">Quiz</a>]\n"
     ]
    }
   ],
   "source": [
    "from bs4 import BeautifulSoup as bs\n",
    "\n",
    "html_tree = bs(page, \"lxml\")\n",
    "all_links = html_tree.find_all(\"a\")\n",
    "print(all_links[:10])"
   ]
  },
  {
   "cell_type": "markdown",
   "id": "511c722e-370f-4cee-916f-9c79b15700f7",
   "metadata": {},
   "source": [
    "Pour savoir comment extraire certaines balises et le texte interne à la balise. RDV sur la page de [documentation de BeautifulSoup](https://www.crummy.com/software/BeautifulSoup/bs4/doc/)"
   ]
  },
  {
   "cell_type": "code",
   "execution_count": null,
   "id": "fe1714ad-ee85-4a1c-a02e-5d92edfb015c",
   "metadata": {},
   "outputs": [],
   "source": [
    "On veut récupérer tous les pages d'ouvrages qui ont cette étiquette.\n",
    "On a remarqué que toutes les étiquettes ont un motif récurent \n"
   ]
  },
  {
   "cell_type": "markdown",
   "id": "9938c77a-a1b4-4f77-9ac2-43ca135882b4",
   "metadata": {},
   "source": [
    "## A vous de jouer!\n",
    "* Identifier les pages que vous voulez extraire\n",
    "* Ouvrez les dans votre navigateur\n",
    "* Activer la console développeur (Ctrl+Maj+I ou Cmd + Maj +J)\n",
    "* Identifier les balises qui contiennent les informations que vous voulez stocker et notez-les\n"
   ]
  },
  {
   "cell_type": "raw",
   "id": "25302a2b-08c7-43a9-bbb9-6303319f5d76",
   "metadata": {},
   "source": [
    "Pour des raisons de réutilisation faciles voici une fonction  qui \n",
    "charge la page web et qui la transforme en HTML. IL vous suffit de mettre à la place l'url choisie ou une liste d'url\n"
   ]
  },
  {
   "cell_type": "code",
   "execution_count": 19,
   "id": "d7f01add-733a-4bcd-8e09-b57f42d4c142",
   "metadata": {},
   "outputs": [],
   "source": [
    "def get_the_soup(url):\n",
    "    '''Recupérer la page HTML à partir d'une url et transformer le HTML en un arbre à parcourir'''\n",
    "    r = requests.get(url) \n",
    "    #proxies=proxy)\n",
    "    if r.status_code == 200:\n",
    "        return bs(r.text, \"lxml\")"
   ]
  },
  {
   "cell_type": "code",
   "execution_count": 20,
   "id": "8f84c80f-d751-48fe-bc38-9544684b901f",
   "metadata": {},
   "outputs": [],
   "source": [
    "# On l'utilise comme ceci\n",
    "# on dit qu'on instancie la fonction ( on appelle la fonction avec un paramêtre et elle s'execute)\n",
    "# page est une variable et get_the_soup est une fonction qui prend en paramètre une url \n",
    "#et retourne du HTML que l'ont peut interroger\n",
    "page = get_the_soup(\"https://www.babelio.com/decouvriretiquettes.php\")\n",
    "# la variable page contient tout l'arbre HTML, on va ensuite ecrire une fonction \n",
    "# qui permet d'extraire les métadonnées souhaitées\n"
   ]
  },
  {
   "cell_type": "markdown",
   "id": "5b67f47b-45cf-4da2-afe7-cee418f0da48",
   "metadata": {},
   "source": [
    "Pour des raisons de réutilisation et adaptation,\n",
    "voici une fonction d'exemple qui prend en parametre la page HTML préalablement parsée \n",
    "et qui renvoie le titre de la page "
   ]
  },
  {
   "cell_type": "code",
   "execution_count": 21,
   "id": "b24d2739-31cd-4437-be27-5db7fa16d329",
   "metadata": {},
   "outputs": [],
   "source": [
    "def extract_title(page):\n",
    "    '''A partir d'une page parsée, \n",
    "    découper la valeur qui nous intéresse ici en nous aidant des balises HTML et du CSS\n",
    "    et le renvoyer pour le stocker'''\n",
    "    title = page.find(\"h1\", {\"class\": \"titre\"})\n",
    "    return title.text"
   ]
  },
  {
   "cell_type": "markdown",
   "id": "0b7eecb6-07d2-4ff6-ac84-1a1f83840c21",
   "metadata": {},
   "source": [
    "Voici une autre fonction qui renvoie une liste de liens."
   ]
  },
  {
   "cell_type": "code",
   "execution_count": 22,
   "id": "4ab73755-a312-40a8-9bcf-9905b0d41367",
   "metadata": {},
   "outputs": [
    {
     "name": "stdout",
     "output_type": "stream",
     "text": [
      "['/actualites.php', '/mabibliotheque.php', '/ajoutlivres.php', '/decouvrir.php', '/decouvrirauteurs.php', '/decouvrirmembres_v2.php?s=1', '/dernierescritiques.php', '/dernierescitations.php', '/listes-de-livres/', '/quiz/', '/groupes', '/questions', '/prix-babelio', '/article/1939/Retrouvez-toutes-nos-rencontres-dauteurs-et-inscr', 'https://www.laboutiquebabelio.com/', '/', '/decouvrir.php', '/decouvrirauteurs.php', '/decouvrirmembres_v2.php?s=1', '/dernierescritiques.php', '/dernierescitations.php', '/listes-de-livres/', '/quiz/', '/groupes', '/questions', '/prix-babelio', '/article/1939/Retrouvez-toutes-nos-rencontres-dauteurs-et-inscr', 'https://www.laboutiquebabelio.com/', '/decouvrir.php', '/actualites.php', '/mabibliotheque.php', '/connection.php', '/connection.php', '/decouvrir.php', '/decouvrir.php', '/a_paraitre.php', '/decouvrirn.php', '/decouvrirauteurs.php', '/dernierescritiques.php', '/dernierescitations.php', '/derniersvideos.php', '/decouvriretiquettes.php?p=1', '/decouvriretiquettes.php?p=2', '/decouvriretiquettes.php?p=3', '/livres-/aventure/33', '/livres-/album/63', '/livres-/document/74', '/livres-/saga/140', '/livres-/prix-goncourt/143', '/livres-/journal/183', '/livres-/encyclopedie/212', '/livres-/recits/253', '/livres-/memoires/311', '/livres-/uchronie/329', '/livres-/chroniques/370', '/livres-/epopee/493', '/livres-/journal-intime/509', '/livres-/satire/551', '/livres-/tragedie/601', '/livres-/roman-daventure/680', '/livres-/entretiens/708', '/livres-/serie/788', '/livres-/roman-initiatique/888', '/livres-/journalisme/975', '/livres-/fables/1071', '/livres-/premier-roman/1202', '/livres-/roman-dapprentissage/1327', '/livres-/histoire-vraie/1477', '/livres-/anthologies/25295', '/livres-/roman/1', '/livres-/urban-fantasy/16343', '/livres-/anticipation/60', '/livres-/dystopie/879', '/livres-/fantasy/4', '/livres-/fantastique/7', '/livres-/roman-fantastique/912', '/livres-/roman-historique/30', '/livres-/historique/66', '/livres-/manga/12', '/livres-/essai/13', '/livres-/documentaire/111', '/livres-/comedie/441', '/livres-/parodie/731', '/livres-/bande-dessinee/18', '/livres-/theatre/21', '/livres-/nouvelles/23', '/livres-/poesie/25', '/livres-/poemes/926', '/livres-/classique/28', '/livres-/biographie/31', '/livres-/autobiographie/45', '/livres-/roman-autobiographique/666', '/livres-/biographie-romancee/1318', '/livres-/recits-de-vie/10687', '/livres-/epouvante/93', '/livres-/roman-psychologique/2179', '/livres-/jeunesse/14', '/livres-/litterature-jeunesse/68', '/livres-/albums-jeunesse/15918', '/livres-/roman-damour/170', '/livres-/temoignage/78', '/livres-/recettes-de-cuisine/16711', '/livres-/recit-de-voyage/448', '/livres-/comics/142', '/livres-/fiction/203', '/livres-/correspondance/261', '/livres-/roman-epistolaire/667', '/livres-/saga-familiale/576', '/livres-/bit-lit/17172', '/livres-/western/533', '/livres-/roman-graphique/683', '/livres-/sport/917', '/livres-/histoire/8', '/livres-/steampunk/1588', '/livres-/seinen/2218', '/livres-/chick-lit/7794', '/livres-/shonen/8715', '/livres-/litterature-pour-adolescents/13688', '/livres-/jeune-adulte/17161', '/livres-/thriller/11', '/livres-/roman-noir/136', '/livres-/suspense/154', '/livres-/policier-historique/225', '/livres-/thriller-psychologique/1073', '/livres-/romans-policiers-et-polars/63883', '/livres-/guide/106', '/livres-/dictionnaire/150', '/livres-/litterature/37', '/livres-/contes/76', '/livres-/societe/85', '/livres-/art/86', '/livres-/adapte-au-cinema/95', '/livres-/enfance/113', '/livres-/magie/133', '/livres-/espionnage/134', '/livres-/harry-potter/179', '/livres-/geographie/187', '/livres-/adolescence/191', '/livres-/mystere/196', '/livres-/enfants/204', '/livres-/critique/230', '/livres-/drame/359', '/livres-/pouvoir/360', '/livres-/amitie/373', '/livres-/culture/384', '/livres-/fantaisie/387', '/livres-/mort/399', '/livres-/peur/430', '/livres-/illustrations/438', '/livres-/terreur/459', '/livres-/informatique/460', '/livres-/romantisme/475', '/livres-/surrealisme/479', '/livres-/legendes/516', '/livres-/merveilleux/541', '/livres-/liberte/547', '/livres-/noir/605', '/livres-/ecriture/622', '/livres-/nature/641', '/livres-/communication/648', '/livres-/anges/668', '/livres-/internet/671', '/livres-/autisme/714', '/livres-/resistance/720', '/livres-/intrigue/730', '/livres-/espace/741', '/livres-/sexualite/751', '/livres-/violence/759', '/livres-/folie/776', '/livres-/esclavage/815', '/livres-/action/816', '/livres-/vie-quotidienne/839', '/livres-/sagesse/851', '/livres-/robots/853', '/livres-/gothique/859', '/livres-/drogue/863', '/livres-/ecole/865', '/livres-/racisme/906', '/livres-/vengeance/943', '/livres-/indiens/962', '/livres-/campagne/973', '/livres-/jeux/1015', '/livres-/mafia/1017', '/livres-/sectes/1018', '/livres-/combat/1052', '/livres-/college/1077', '/livres-/quete/1086', '/livres-/universite/1092', '/livres-/handicap/1111', '/livres-/juif/1124', '/livres-/utopie/1148', '/livres-/vie/1151', '/livres-/souvenirs/1156', '/livres-/enigmes/1160', '/livres-/initiation/1234', '/livres-/femmes/1249', '/livres-/chats/1269', '/livres-/maladie/1276', '/livres-/sculpture/1322', '/livres-/immigration/1345', '/livres-/civilisation/1407', '/livres-/suicide/1452', '/livres-/nazis/1465', '/livres-/memoire/1494', '/livres-/solitude/1497', '/livres-/livres/1513', '/livres-/deuil/1520', '/livres-/aviation/1529', '/livres-/sida/1562', '/livres-/villes/1578', '/livres-/viol/1608', '/livres-/beaute/1641', '/livres-/banlieue/1690', '/livres-/culpabilite/1717', '/livres-/loup/1721', '/livres-/surnaturel/1745', '/livres-/violences-conjugales/1749', '/livres-/travail/1750', '/livres-/sexe/1752', '/livres-/identite/1766', '/livres-/sentiments/1770', '/livres-/dictature/1790', '/livres-/extra-terrestres/1800', '/livres-/futur/1804', '/livres-/mode/1830', '/livres-/recueil/1854', '/livres-/humanite/1895', '/livres-/depression/1898', '/livres-/vieillesse/1948', '/livres-/destin/1952', '/livres-/sorcieres/1974', '/livres-/occupation/1998', '/livres-/temps/2030', '/livres-/ecrivain/2113', '/livres-/survie/2128', '/livres-/antisemitisme/2136', '/livres-/pauvrete/2152', '/livres-/pedophilie/2154', '/livres-/jumeaux/2158', '/livres-/alcoolisme/2192', '/livres-/mensonges/2222', '/livres-/agriculture/2223', '/livres-/cancer/2230', '/livres-/monstre/2249', '/livres-/mythes/2272', '/livres-/desert/2320', '/livres-/tendresse/2357', '/livres-/apprentissage/2380', '/livres-/colonialisme/2408', '/livres-/angoisse/2443', '/livres-/enlevement/2482', '/livres-/princesse/2498', '/livres-/fin-du-monde/2522', '/livres-/bonheur/2543', '/livres-/jardins/2597', '/livres-/chevaux/2629', '/livres-/post-apocalyptique/2642', '/livres-/portraits/2683', '/livres-/quotidien/2696', '/livres-/proces/2733', '/livres-/danse/2764', '/livres-/anorexie/2865', '/livres-/jalousie/2910', '/livres-/elfes/2918', '/livres-/intelligence-artificielle/2923', '/livres-/grossesse/2990', '/livres-/difference/3009', '/livres-/addiction/3033', '/livres-/bourgeoisie/3042', '/livres-/adaptation/3068', '/livres-/couleur/3079', '/livres-/alcool/3082', '/livres-/chevaliers/3106', '/livres-/passion/3133', '/livres-/amnesie/3138', '/livres-/malediction/3146', '/livres-/justice/3151', '/livres-/mere/3174', '/livres-/chasse/3180', '/livres-/peine-de-mort/3221', '/livres-/police/3308', '/livres-/fratrie/3377', '/livres-/reves/3407', '/livres-/tristesse/3423', '/livres-/reportage/3488', '/livres-/nol/3724', '/livres-/courage/3752', '/livres-/reflexions/3768', '/livres-/argent/3775', '/livres-/tolerance/3777', '/livres-/separation/3920', '/livres-/espoir/3946', '/livres-/nostalgie/3949', '/livres-/enquetes/3988', '/livres-/resilience/4092', '/livres-/emotion/4100', '/livres-/librairie/4103', '/livres-/fuite/4152', '/livres-/avortement/4166', '/livres-/randonnees/4201', '/livres-/demons/4293', '/livres-/disparition/4299', '/livres-/souffrance/4303', '/livres-/neige/4374', '/livres-/enseignement/4458', '/livres-/croyances/4488', '/livres-/exil/4579', '/livres-/secrets/4793', '/livres-/arbres/4858', '/livres-/trahison/5061', '/livres-/apocalypse/5072', '/livres-/imagination/5153', '/livres-/vacances/5198', '/livres-/faits-divers/5210', '/livres-/huis-clos/5228', '/livres-/maltraitance/5309', '/livres-/misere/5394', '/livres-/accident/5681', '/livres-/hiver/5697', '/livres-/tranches-de-vie/5962', '/livres-/prisons/6811', '/livres-/segregation/6867', '/livres-/paternite/7031', '/livres-/oiseaux/7278', '/livres-/technologie/7412', '/livres-/soeurs/7625', '/livres-/road-trip/7821', '/livres-/refugies/8159', '/livres-/rupture/8520', '/livres-/virus/10174', '/livres-/complots/10436', '/livres-/jeux-video/10657', '/livres-/introspection/10860', '/livres-/onirique/11040', '/livres-/traditions/11152', '/livres-/heritage/11192', '/livres-/cirque/11557', '/livres-/maladie-dalzheimer/11573', '/livres-/hopital/11580', '/livres-/trains/11704', '/livres-/rencontre/11820', '/livres-/adoption/11885', '/livres-/vikings/11992', '/livres-/harcelement/12093', '/livres-/armees/13482', '/livres-/attentats/13749', '/livres-/epidemie/13779', '/livres-/solidarite/14062', '/livres-/bebes/14571', '/livres-/pere/16205', '/livres-/traumatisme/16208', '/livres-/naufrage/16275', '/livres-/passe/16372', '/livres-/reconstruction/16520', '/livres-/iles/16757', '/livres-/torture/16916', '/livres-/orphelins/22139', '/livres-/forets/23765', '/livres-/reseaux-sociaux/26109', '/livres-/beaux-livres/154283', '/livres-/cosy-mystery/181308', '/livres-/autrice/275938', '/livres-/heroic-fantasy/101', '/livres-/loup-garou/4376', '/livres-/science-fiction/6', '/livres-/voyage-dans-le-temps/1423', '/livres-/space-opera/2679', '/livres-/univers-paralleles/17135', '/livres-/dragon/396', '/livres-/fees/503', '/livres-/sorcellerie/511', '/livres-/imaginaire/553', '/livres-/sorciers/1278', '/livres-/fantomes/1942', '/livres-/zombies/3581', '/livres-/prehistoire/251', '/livres-/archeologie/328', '/livres-/revolution-francaise/588', '/livres-/revolution/697', '/livres-/revolte/969', '/livres-/genocide/1563', '/livres-/colonisation/1775', '/livres-/humour/15', '/livres-/absurde/603', '/livres-/humour-noir/621', '/livres-/contes-philosophiques/13253', '/livres-/religion/26', '/livres-/spiritualite/67', '/livres-/islam/84', '/livres-/judaisme/626', '/livres-/christianisme/653', '/livres-/bouddhisme/733', '/livres-/dieu/2714', '/livres-/new-york/1660', '/livres-/musique/44', '/livres-/jazz/1021', '/livres-/horreur/46', '/livres-/politique/54', '/livres-/communisme/520', '/livres-/terrorisme/620', '/livres-/totalitarisme/958', '/livres-/manipulation/1258', '/livres-/geopolitique/1370', '/livres-/corruption/3345', '/livres-/psychologie/65', '/livres-/psychanalyse/102', '/livres-/psychiatrie/719', '/livres-/psychologique/1012', '/livres-/peinture/72', '/livres-/peintre/3084', '/livres-/amour/77', '/livres-/histoire-damour/374', '/livres-/romance/549', '/livres-/histoire-de-lart/115', '/livres-/photographie/155', '/livres-/photos/363', '/livres-/dessins/1633', '/livres-/artiste/8583', '/livres-/guerre/91', '/livres-/seconde-guerre-mondiale/188', '/livres-/nazisme/198', '/livres-/premiere-guerre-mondiale/760', '/livres-/guerre-dalgerie/1572', '/livres-/guerre-froide/2949', '/livres-/guerre-civile-espagnole/3413', '/livres-/guerre-civile/3695', '/livres-/cinema/99', '/livres-/chine/105', '/livres-/critique-sociale/393', '/livres-/social/637', '/livres-/egypte/117', '/livres-/cuisine/123', '/livres-/gastronomie/419', '/livres-/antiquite/127', '/livres-/voyages/130', '/livres-/super-heros/4154', '/livres-/economie/149', '/livres-/science/252', '/livres-/mathematiques/274', '/livres-/anthropologie/602', '/livres-/biologie/880', '/livres-/astronomie/1399', '/livres-/genetique/1558', '/livres-/mythologie/255', '/livres-/mythologie-grecque/3360', '/livres-/lettres/1088', '/livres-/epistolaire/1473', '/livres-/architecture/267', '/livres-/ecologie/280', '/livres-/environnement/3686', '/livres-/famille/290', '/livres-/histoires-de-famille/1238', '/livres-/inceste/1306', '/livres-/relation-pere-fils/8098', '/livres-/maternite/9587', '/livres-/relations-mere-fille/10967', '/livres-/secrets-de-famille/14648', '/livres-/vampires/310', '/livres-/esoterisme/350', '/livres-/paranormal/638', '/livres-/animaux/356', '/livres-/chiens/4658', '/livres-/shoah/361', '/livres-/deportation/429', '/livres-/camps-de-concentration/2347', '/livres-/mer/364', '/livres-/mers-et-oceans/129943', '/livres-/education/406', '/livres-/pedagogie/1198', '/livres-/erotique/355', '/livres-/erotisme/408', '/livres-/feminisme/411', '/livres-/condition-de-la-femme/2046', '/livres-/litterature-sud-americaine/439', '/livres-/medecine/232', '/livres-/sante/513', '/livres-/bien-etre/582', '/livres-/indiens-damerique/4766', '/livres-/couple/693', '/livres-/adultere/1698', '/livres-/divorce/2142', '/livres-/mariage/3682', '/livres-/football/2565', '/livres-/litterature-suedoise/136138', '/livres-/litterature-norvegienne/137184', '/livres-/nature-writing/932', '/livres-/meditation/231', '/livres-/developpement-personnel/1045', '/livres-/prostitution/1457', '/livres-/philosophie/20', '/livres-/sociologie/108', '/livres-/syrie/7259', '/livres-/pirates/1412', '/livres-/medias/1617', '/livres-/tele-realite/24546', '/livres-/shojo/3083', '/livres-/peche/2935', '/livres-/rock-and-roll/7224', '/livres-/montagnes/11166', '/livres-/litterature-belge/157', '/livres-/terroir/275', '/livres-/meurtre/505', '/livres-/tueur-en-serie/996', '/livres-/crime/1255', '/livres-/detective/1700', '/livres-/feel-good-book/246462', '/livres-/homosexualite/486', '/livres-/lgbt/16749', '/livres-/france/22', '/livres-/etats-unis/36', '/livres-/europe/594', '/livres-/amerique/678', '/livres-/quebec/824', '/livres-/norvege/1108', '/livres-/litterature-francaise/3', '/livres-/francais/19', '/livres-/litterature-francophone/82', '/livres-/litterature-americaine/9', '/livres-/bretagne/241', '/livres-/provence/295', '/livres-/Normandie-France/88817', '/livres-/Paris-France/88917', '/livres-/litterature-anglaise/29', '/livres-/litterature-britannique/62', '/livres-/londres/1062', '/livres-/litterature-russe/73', '/livres-/litterature-chinoise/464', '/livres-/rome/347', '/livres-/venise/890', '/livres-/afrique/156', '/livres-/litterature-africaine/1033', '/livres-/afrique-du-sud/1290', '/livres-/litterature-australienne/1985', '/livres-/inde/236', '/livres-/litterature-indienne/748', '/livres-/irlande/281', '/livres-/litterature-irlandaise/348', '/livres-/asie/316', '/livres-/orient/496', '/livres-/iran/537', '/livres-/afghanistan/725', '/livres-/coree/1312', '/livres-/viet-nam/7008', '/livres-/moyen-orient/11576', '/livres-/litterature-autrichienne/404', '/livres-/litterature-espagnole/444', '/livres-/amerique-du-sud/552', '/livres-/argentine/960', '/livres-/bresil/968', '/livres-/litterature-quebecoise/593', '/livres-/italie/122', '/livres-/russie/175', '/livres-/suede/216', '/livres-/allemagne/221', '/livres-/grece/279', '/livres-/espagne/309', '/livres-/belgique/344', '/livres-/islande/523', '/livres-/suisse/870', '/livres-/ecosse/954', '/livres-/urss/1393', '/livres-/pologne/1410', '/livres-/canada/550', '/livres-/cuba/910', '/livres-/mexique/1697', '/livres-/litterature-scandinave/920', '/livres-/litterature-danoise/1066', '/livres-/litterature-islandaise/2573', '/livres-/litterature-canadienne/1041', '/livres-/japon/42', '/livres-/litterature-japonaise/114', '/livres-/turquie/1159', '/livres-/isral/434', '/livres-/liban/1321', '/livres-/algerie/615', '/livres-/maroc/3137', '/livres-/australie/332', '/livres-/anglais/43', '/livres-/angleterre/64', '/livres-/litterature-italienne/148', '/livres-/litterature-suisse/1054', '/livres-/litterature-allemande/137', '/livres-/contemporain/50', '/livres-/20eme-siecle/2410', '/livres-/annees-50/7663', '/livres-/21eme-siecle/10821', '/livres-/renaissance/437', '/livres-/moyen-age/83', '/livres-/medieval/1053', '/livres-/18eme-siecle/3323', '/livres-/19eme-siecle/3621', '/livres-/annees-60/7324', '/livres-/16eme-siecle/15196', '/livres-/17eme-siecle/13775', '/partenariats_editeurs.php', '/massecritique.php', 'https://babelio.freshdesk.com/support/home', '/article/2065/babeltheque', '/apropos.php', 'http://www.defibabelio.fr/', 'https://www.laboutiquebabelio.com/', '/rss_critiques.php', 'https://www.facebook.com/pages/Babeliocom/36218830677', 'https://www.twitter.com/babelio', 'https://itunes.apple.com/fr/app/babelio/id1449315145?l=fr&ls=1&mt=8', 'https://play.google.com/store/apps/details?id=com.babelio.babelio&hl=fr']\n"
     ]
    }
   ],
   "source": [
    "def get_links(url, page):\n",
    "    links = []\n",
    "    for a in page.find_all(\"a\"):\n",
    "        links.append(a.get(\"href\"))\n",
    "    return links\n",
    "\n",
    "# elle peut aussi s'ecrire de manière plus compacte\n",
    "def get_links(page):\n",
    "    return [a.get(\"href\") for a in page.find_all(\"a\")]\n",
    "# testons donc en chainant les fonctions\n",
    "page_etiquettes = get_the_soup(\"https://www.babelio.com/decouvriretiquettes.php\") \n",
    "liens_etiquettes = get_links(page_etiquettes)\n",
    "print(liens_etiquettes)"
   ]
  },
  {
   "cell_type": "markdown",
   "id": "7db86f3c-afbc-481a-8af6-8bb899e514b8",
   "metadata": {},
   "source": [
    "On remarque plusieurs choses: on a des urls en double, on a des liens relatifs et des liens absolus et on a potentiellement des références à la même page. Pour pouvoir extraire toutes les pages de chaque étidette on a besoin d'une url absolue soit une adresse complète on va donc améliorer la fonction et enchainer dans la fonction"
   ]
  },
  {
   "cell_type": "code",
   "execution_count": 16,
   "id": "bfbef640-49e8-4014-9049-f0d793f0c799",
   "metadata": {},
   "outputs": [],
   "source": [
    "import os\n",
    "#BASE_URL est a changer selon le site sur lequel vous travaillez\n",
    "BASE_URL = \"http://babelio.fr\"\n",
    "def get_links(url):\n",
    "    page = get_the_soup(url)\n",
    "    links = []\n",
    "    for a in page.find_all(\"a\"):\n",
    "        if not a.get(\"href\").startswith(\"http\"):\n",
    "            link = os.path.join(BASE_URL, a.get(\"href\"))\n",
    "            if link != BASE_URL+\"/\" and link != url:\n",
    "                links.append(link)\n",
    "    # ici on dédoublonne les liens\n",
    "    return list(set(links))"
   ]
  },
  {
   "cell_type": "markdown",
   "id": "26d57973-7215-4e86-a824-0f64ed5fce68",
   "metadata": {},
   "source": [
    "## ETAPE 2: Stocker les informations\n",
    "## Data Management"
   ]
  },
  {
   "cell_type": "markdown",
   "id": "b96df79d-683e-4231-bc06-7b28be853762",
   "metadata": {},
   "source": [
    "Pour pouvoir enquêter, il faut stocker et lire les informations. A partir d'un certain seuil de taille, on utilise une base de données pour enregistrer et lire les données.\n",
    "A notre niveau, on va simplement stocker dans un fichier tabulaire CSV pour les enregistrer et les lire. \n"
   ]
  },
  {
   "cell_type": "code",
   "execution_count": 24,
   "id": "22f20c63-bb04-45ae-8726-75fd8970fb93",
   "metadata": {},
   "outputs": [],
   "source": [
    "import csv\n",
    "def write_data(filename, data):\n",
    "    with open(filename, \"w\") as f:\n",
    "        csv_writer = csv.dictWriter(f, filednames = data.keys())\n",
    "        csv_writer.writeheader()\n",
    "        for row in data:\n",
    "            csv_writer.writerow(row)\n",
    "    return\n",
    "def read_data(filename):\n",
    "    with open(filename, \"r\") as f:\n",
    "        csv_reader = csv.dictReader(f)\n",
    "        return [row for row in csv_reader]\n",
    "\n",
    "# ou alternativement\n",
    "import pandas as pd\n",
    "def read_dataframe(filename):\n",
    "    return pd.read_csv(filename)\n",
    "\n",
    "        \n",
    "        "
   ]
  },
  {
   "cell_type": "code",
   "execution_count": null,
   "id": "1d861f72-d09f-4667-b33b-2d31539718d9",
   "metadata": {},
   "outputs": [],
   "source": [
    "with open(f\"TAG-{row['name']}-details.csv\", \"w\") as fd:\n",
    "    detail_writer = csv.DictWriter(fd, fieldnames=[\"id\",\"auteur\",\"titre\",\"resume\",\"rating\",\"votes\",\"linked_books\",\"tags\"])\n",
    "    detail_writer.writeheader()\n",
    "    #[\"id\", \"Auteur\", \"Titre\", \"Resumé\", \"Note générale\", \"Total des Notes\", \"ID des livres conseillés\", \"Etiquettes associées\"]\n",
    "    with open(f\"TAG-{row['name']}-booklist.csv\", \"w\") as f:\n",
    "        list_writer = csv.writer(f, delimiter=\",\")\n",
    "        list_writer.writerow(\"id,url\\n\")\n",
    "        for page in pages:\n",
    "            for n in page.find_all(\"a\"):\n",
    "                href = n.get(\"href\")\n",
    "                id = href.split(\"/\")[-1]\n",
    "                if href is not None and href.startswith(\"/livres/\") and  \"#\" not in href and id.isnumeric():\n",
    "                    url = BASE_URL+ href\n",
    "                    print(url)\n",
    "                    id = int(id)\n",
    "                    list_writer.writerow(f\"{id},'{url}'\\n\")\n",
    "                    book_page = get_the_soup(url)\n",
    "                    book_details = get_book_detail(book_page, id)\n",
    "                    detail_writer.writerow(book_details)\n"
   ]
  },
  {
   "cell_type": "markdown",
   "id": "44840f26-db38-4f26-b4a3-a92fabd552e4",
   "metadata": {},
   "source": [
    "Maintenant on a de quoi enquêter, on va pouvoir faire les vérifications d'usage pour s'assurer de la cohérence de notre corpus.\n"
   ]
  }
 ],
 "metadata": {
  "kernelspec": {
   "display_name": "Python 3 (ipykernel)",
   "language": "python",
   "name": "python3"
  },
  "language_info": {
   "codemirror_mode": {
    "name": "ipython",
    "version": 3
   },
   "file_extension": ".py",
   "mimetype": "text/x-python",
   "name": "python",
   "nbconvert_exporter": "python",
   "pygments_lexer": "ipython3",
   "version": "3.10.12"
  }
 },
 "nbformat": 4,
 "nbformat_minor": 5
}
