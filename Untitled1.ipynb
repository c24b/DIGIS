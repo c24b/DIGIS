{
 "cells": [
  {
   "cell_type": "markdown",
   "id": "7b086f9c-9c08-4492-9a18-c79cc83d2817",
   "metadata": {},
   "source": [
    "# Crawl\n",
    "\n",
    "On a vu comment collecter les données d'**une seule** page. Maintenant on va réflechir ensemble aux stratégies pour généraliser la collecte.\n",
    "La particularité du web est qu'il est fondé sur le lien hypertexte qui relie les documents entre eux avec une balise `<a href=\"\"></a>`"
   ]
  }
 ],
 "metadata": {
  "kernelspec": {
   "display_name": "Python 3 (ipykernel)",
   "language": "python",
   "name": "python3"
  },
  "language_info": {
   "codemirror_mode": {
    "name": "ipython",
    "version": 3
   },
   "file_extension": ".py",
   "mimetype": "text/x-python",
   "name": "python",
   "nbconvert_exporter": "python",
   "pygments_lexer": "ipython3",
   "version": "3.10.12"
  }
 },
 "nbformat": 4,
 "nbformat_minor": 5
}
