{
 "cells": [
  {
   "cell_type": "markdown",
   "id": "220f2f02-0cdf-4c8f-aee0-1e947665fef0",
   "metadata": {},
   "source": [
    "# WEBMINING\n",
    "\n",
    "\n",
    "## Collecter les informations d'une page web\n",
    "\n",
    "Se connecter à la page web: \n",
    "ce qui veut dire demander au serveur de charger une adresse web http://www.\n",
    "\n",
    "Pour cela on utilise un module python appelé requests\n"
   ]
  },
  {
   "cell_type": "code",
   "execution_count": null,
   "id": "90b607da-e62a-495b-b7a2-31d07057adab",
   "metadata": {},
   "outputs": [],
   "source": []
  },
  {
   "cell_type": "markdown",
   "id": "ec4ef082-b0a5-4bed-8048-dc27656fa80e",
   "metadata": {},
   "source": [
    "## Parcourir le html pour isoler les éléments qui nous intéresse\n",
    "\n",
    "Nous avons téléchargé la mpage web sous forme de texte, on doit la transformer en arbre car le HTML est un langage semi structuré avec des balises. On  utilse pour cela un autre module qui se charge de le trasnformer pour nous.\n",
    "On importe le modue BeautifulSoup4 "
   ]
  },
  {
   "cell_type": "markdown",
   "id": "6ede1912-6a87-43c3-a3ac-5c0824bd1ef2",
   "metadata": {},
   "source": [
    "# WEBMINING\n",
    "Collecter les informations d'une page web.\n",
    "\n",
    "Se connecter à la page web: \n",
    "ce qui veut dire demander au serveur de charger une adresse web http://www.\n",
    "\n",
    "Pour cela on utilise un module python appelé requests. Pour vous permettre de l'utiliser et la réutiliser, j'ai écrit une simple fonction une fonction qui prend une adresse web complete et renvoie un arbre HTML à parcourir.\n"
   ]
  },
  {
   "cell_type": "code",
   "execution_count": null,
   "id": "a8db8f83-b1a0-429c-9568-1107ebcfd961",
   "metadata": {},
   "outputs": [],
   "source": [
    "import requests"
   ]
  },
  {
   "cell_type": "code",
   "execution_count": null,
   "id": "f04c452a-aacd-448c-ae31-e8ab58bd4ffe",
   "metadata": {},
   "outputs": [],
   "source": [
    "from bs4 import BeautifulSoup4"
   ]
  },
  {
   "cell_type": "code",
   "execution_count": 2,
   "id": "7dd544e3-f56c-424b-b703-7aa2912c8f54",
   "metadata": {},
   "outputs": [],
   "source": [
    "def get_the_soup(url):\n",
    "    '''Recupérer la page HTML à partir d'une url et transformer le HTML en un arbre à parcourir'''\n",
    "    r = requests.get(url) \n",
    "    #proxies=proxy)\n",
    "    if r.status_code == 200:\n",
    "        return bs(r.text, \"lxml\")\n",
    "        "
   ]
  },
  {
   "cell_type": "code",
   "execution_count": null,
   "id": "9153f457-4499-46ab-95d0-2c0b7704e743",
   "metadata": {},
   "outputs": [],
   "source": []
  }
 ],
 "metadata": {
  "kernelspec": {
   "display_name": "Python 3 (ipykernel)",
   "language": "python",
   "name": "python3"
  },
  "language_info": {
   "codemirror_mode": {
    "name": "ipython",
    "version": 3
   },
   "file_extension": ".py",
   "mimetype": "text/x-python",
   "name": "python",
   "nbconvert_exporter": "python",
   "pygments_lexer": "ipython3",
   "version": "3.10.12"
  }
 },
 "nbformat": 4,
 "nbformat_minor": 5
}
